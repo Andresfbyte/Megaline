{
 "cells": [
  {
   "cell_type": "markdown",
   "metadata": {},
   "source": [
    "# Statistical data analysis"
   ]
  },
  {
   "cell_type": "markdown",
   "metadata": {},
   "source": [
    "## Table of content\n",
    "\n",
    "# Table of Contents\n",
    "1. [Introduction](#introduction)\n",
    "2. [Objectives](#objectives)\n",
    "3. [Initialization](#initialization)\n",
    "   - 3.1. [Load libraries](#load-libraries)\n",
    "   - 3.2. [Load dataframes](#load-dataframes)\n",
    "     - 3.2.1. [Plans Data](#plans-data)\n",
    "     - 3.2.2. [Users Data](#users-data)\n",
    "     - 3.2.3. [Calls Data](#calls-data)\n",
    "     - 3.2.4. [Messages Data](#messages-data)\n",
    "     - 3.2.5. [Internet Data](#internet-data)\n",
    "4. [Fare Conditions](#fare-conditions)\n",
    "5. [Data per User](#data-per-user)\n",
    "   - 5.1. [Calls](#calls)\n",
    "   - 5.2. [Messages](#messages)\n",
    "   - 5.3. [Internet](#internet)\n",
    "6. [User Analysis](#user-analysis)\n",
    "   - 6.1. [Calls](#calls-analysis)\n",
    "   - 6.2. [Messages](#messages-analysis)\n",
    "   - 6.3. [Internet](#internet-analysis)\n",
    "7. [Income](#income)\n",
    "8. [Testing Statistical Hypotheses](#testing-statistical-hypotheses)\n",
    "   - 8.1. [First Hypothesis](#first-hypothesis)\n",
    "   - 8.2. [Second Hypothesis](#second-hypothesis)\n",
    "9. [Conclusions](#conclusions)\n"
   ]
  },
  {
   "cell_type": "markdown",
   "metadata": {},
   "source": [
    "## Introduction\n",
    "\n",
    "Megaline wants to know which of its two most popular plans, Surf or Ultimate, generates more money. Based on the findings, the advertising budget may be changed to improve the promotion of the less lucrative plan while also promoting the highest-earning plan. To address this, a preliminary study will be performed on data from 500 consumers. The dataset contains information on user demographics, locations, plan kinds, and usage statistics (number of calls and text messages sent) for 2018. The investigation will focus on analyzing consumer behavior and determining which prepaid plan adds the most to the company's income."
   ]
  },
  {
   "cell_type": "markdown",
   "metadata": {},
   "source": [
    "## Objectives\n",
    "\n",
    "* Determine whether the Surf or Ultimate plan is more profitable for Megaline. \n",
    "* Recognize consumption trends by learning how clients utilize each plan, including call and text message habits.\n",
    "* Offer suggestions for modifying the advertising budget with the goal of enhancing the lower-revenue plan's profitability while preserving the top-earning plan's performance."
   ]
  },
  {
   "cell_type": "markdown",
   "metadata": {},
   "source": [
    "## Initialization\n",
    "We begin by importing the libraries that will help us analyze our data. In this analysis, we will use the libraries pandas, numpy, matplotlib.pyplot, seaborn, and scipy. These libraries will enable us to process our datasets more efficiently, facilitating their visualization and hypothesis testing."
   ]
  },
  {
   "cell_type": "code",
   "execution_count": 2,
   "metadata": {},
   "outputs": [
    {
     "name": "stdout",
     "output_type": "stream",
     "text": [
      "Requirement already satisfied: scipy in c:\\users\\felip\\anaconda3\\envs\\entorno\\lib\\site-packages (1.14.1)\n",
      "Requirement already satisfied: numpy<2.3,>=1.23.5 in c:\\users\\felip\\anaconda3\\envs\\entorno\\lib\\site-packages (from scipy) (2.0.0)\n"
     ]
    }
   ],
   "source": [
    "!pip install scipy"
   ]
  },
  {
   "cell_type": "markdown",
   "metadata": {},
   "source": [
    "### Load libraries"
   ]
  },
  {
   "cell_type": "code",
   "execution_count": 3,
   "metadata": {},
   "outputs": [],
   "source": [
    "# Load all libraries\n",
    "import pandas as pd\n",
    "import numpy as np\n",
    "import math as mt\n",
    "from scipy import stats as st\n",
    "from matplotlib import pyplot as plt"
   ]
  },
  {
   "cell_type": "markdown",
   "metadata": {},
   "source": [
    "### Load dataframes"
   ]
  },
  {
   "cell_type": "code",
   "execution_count": 4,
   "metadata": {},
   "outputs": [],
   "source": [
    "# Load the data files into different DataFrames\n",
    "calls = pd.read_csv('megaline_calls.csv')\n",
    "internet= pd.read_csv('megaline_internet.csv')\n",
    "messages= pd.read_csv('megaline_messages.csv')\n",
    "plans= pd.read_csv('megaline_plans.csv')\n",
    "users= pd.read_csv('megaline_users.csv')"
   ]
  },
  {
   "cell_type": "markdown",
   "metadata": {},
   "source": [
    "#### Plans Data"
   ]
  },
  {
   "cell_type": "code",
   "execution_count": 5,
   "metadata": {},
   "outputs": [
    {
     "name": "stdout",
     "output_type": "stream",
     "text": [
      "<class 'pandas.core.frame.DataFrame'>\n",
      "RangeIndex: 2 entries, 0 to 1\n",
      "Data columns (total 8 columns):\n",
      " #   Column                 Non-Null Count  Dtype  \n",
      "---  ------                 --------------  -----  \n",
      " 0   messages_included      2 non-null      int64  \n",
      " 1   mb_per_month_included  2 non-null      int64  \n",
      " 2   minutes_included       2 non-null      int64  \n",
      " 3   usd_monthly_pay        2 non-null      int64  \n",
      " 4   usd_per_gb             2 non-null      int64  \n",
      " 5   usd_per_message        2 non-null      float64\n",
      " 6   usd_per_minute         2 non-null      float64\n",
      " 7   plan_name              2 non-null      object \n",
      "dtypes: float64(2), int64(5), object(1)\n",
      "memory usage: 260.0+ bytes\n",
      "============================================================\n"
     ]
    },
    {
     "data": {
      "text/html": [
       "<div>\n",
       "<style scoped>\n",
       "    .dataframe tbody tr th:only-of-type {\n",
       "        vertical-align: middle;\n",
       "    }\n",
       "\n",
       "    .dataframe tbody tr th {\n",
       "        vertical-align: top;\n",
       "    }\n",
       "\n",
       "    .dataframe thead th {\n",
       "        text-align: right;\n",
       "    }\n",
       "</style>\n",
       "<table border=\"1\" class=\"dataframe\">\n",
       "  <thead>\n",
       "    <tr style=\"text-align: right;\">\n",
       "      <th></th>\n",
       "      <th>messages_included</th>\n",
       "      <th>mb_per_month_included</th>\n",
       "      <th>minutes_included</th>\n",
       "      <th>usd_monthly_pay</th>\n",
       "      <th>usd_per_gb</th>\n",
       "      <th>usd_per_message</th>\n",
       "      <th>usd_per_minute</th>\n",
       "      <th>plan_name</th>\n",
       "    </tr>\n",
       "  </thead>\n",
       "  <tbody>\n",
       "    <tr>\n",
       "      <th>0</th>\n",
       "      <td>50</td>\n",
       "      <td>15360</td>\n",
       "      <td>500</td>\n",
       "      <td>20</td>\n",
       "      <td>10</td>\n",
       "      <td>0.03</td>\n",
       "      <td>0.03</td>\n",
       "      <td>surf</td>\n",
       "    </tr>\n",
       "    <tr>\n",
       "      <th>1</th>\n",
       "      <td>1000</td>\n",
       "      <td>30720</td>\n",
       "      <td>3000</td>\n",
       "      <td>70</td>\n",
       "      <td>7</td>\n",
       "      <td>0.01</td>\n",
       "      <td>0.01</td>\n",
       "      <td>ultimate</td>\n",
       "    </tr>\n",
       "  </tbody>\n",
       "</table>\n",
       "</div>"
      ],
      "text/plain": [
       "   messages_included  mb_per_month_included  minutes_included  \\\n",
       "0                 50                  15360               500   \n",
       "1               1000                  30720              3000   \n",
       "\n",
       "   usd_monthly_pay  usd_per_gb  usd_per_message  usd_per_minute plan_name  \n",
       "0               20          10             0.03            0.03      surf  \n",
       "1               70           7             0.01            0.01  ultimate  "
      ]
     },
     "execution_count": 5,
     "metadata": {},
     "output_type": "execute_result"
    }
   ],
   "source": [
    "# Display general information\n",
    "plans.info()  \n",
    "print('='*60)\n",
    "# Display the first few rows of the plans DataFrame\n",
    "plans.head() "
   ]
  },
  {
   "cell_type": "markdown",
   "metadata": {},
   "source": [
    "\n",
    "The data corresponds to the plans offered by the company. The data types are in the correct format, and there are no duplicate or null values. However, it is necessary to correct the 'mb_per_month_included' column because its values do not match the plans offered by the company. This could be an issue in the following steps, as the company rounds the data even if it exceeds by a second or a megabyte."
   ]
  },
  {
   "cell_type": "code",
   "execution_count": 6,
   "metadata": {},
   "outputs": [
    {
     "name": "stdout",
     "output_type": "stream",
     "text": [
      "   messages_included  mb_per_month_included  minutes_included  \\\n",
      "0                 50                  15000               500   \n",
      "1               1000                  30000              3000   \n",
      "\n",
      "   usd_monthly_pay  usd_per_gb  usd_per_message  usd_per_minute plan_name  \\\n",
      "0               20          10             0.03            0.03      surf   \n",
      "1               70           7             0.01            0.01  ultimate   \n",
      "\n",
      "   gb_per_month  \n",
      "0     14.648438  \n",
      "1     29.296875  \n"
     ]
    }
   ],
   "source": [
    "# Correcting values in the data\n",
    "# Change the values of mb_per_month_included\n",
    "plans.loc[0, 'mb_per_month_included'] = 15000\n",
    "plans.loc[1, 'mb_per_month_included'] = 30000\n",
    "\n",
    "# Convert total data usage from megabytes to gigabytes\n",
    "plans['gb_per_month'] = plans['mb_per_month_included'] / 1024\n",
    "print(plans.head())"
   ]
  },
  {
   "cell_type": "code",
   "execution_count": 7,
   "metadata": {},
   "outputs": [
    {
     "name": "stdout",
     "output_type": "stream",
     "text": [
      "Index(['user_id', 'first_name', 'last_name', 'age', 'city', 'reg_date', 'plan',\n",
      "       'churn_date', 'messages_included', 'mb_per_month_included',\n",
      "       'minutes_included', 'usd_monthly_pay', 'usd_per_gb', 'usd_per_message',\n",
      "       'usd_per_minute', 'plan_name', 'gb_per_month'],\n",
      "      dtype='object')\n"
     ]
    }
   ],
   "source": [
    "users_plans = users.merge(plans, left_on='plan', right_on='plan_name', how='inner')\n",
    "print(users_plans.columns)"
   ]
  },
  {
   "cell_type": "markdown",
   "metadata": {},
   "source": [
    "We add columns that may be useful for later processes."
   ]
  },
  {
   "cell_type": "markdown",
   "metadata": {},
   "source": [
    "#### Users Data"
   ]
  },
  {
   "cell_type": "code",
   "execution_count": 8,
   "metadata": {},
   "outputs": [
    {
     "name": "stdout",
     "output_type": "stream",
     "text": [
      "<class 'pandas.core.frame.DataFrame'>\n",
      "RangeIndex: 500 entries, 0 to 499\n",
      "Data columns (total 8 columns):\n",
      " #   Column      Non-Null Count  Dtype \n",
      "---  ------      --------------  ----- \n",
      " 0   user_id     500 non-null    int64 \n",
      " 1   first_name  500 non-null    object\n",
      " 2   last_name   500 non-null    object\n",
      " 3   age         500 non-null    int64 \n",
      " 4   city        500 non-null    object\n",
      " 5   reg_date    500 non-null    object\n",
      " 6   plan        500 non-null    object\n",
      " 7   churn_date  34 non-null     object\n",
      "dtypes: int64(2), object(6)\n",
      "memory usage: 31.4+ KB\n",
      "========================================\n"
     ]
    },
    {
     "data": {
      "text/html": [
       "<div>\n",
       "<style scoped>\n",
       "    .dataframe tbody tr th:only-of-type {\n",
       "        vertical-align: middle;\n",
       "    }\n",
       "\n",
       "    .dataframe tbody tr th {\n",
       "        vertical-align: top;\n",
       "    }\n",
       "\n",
       "    .dataframe thead th {\n",
       "        text-align: right;\n",
       "    }\n",
       "</style>\n",
       "<table border=\"1\" class=\"dataframe\">\n",
       "  <thead>\n",
       "    <tr style=\"text-align: right;\">\n",
       "      <th></th>\n",
       "      <th>user_id</th>\n",
       "      <th>first_name</th>\n",
       "      <th>last_name</th>\n",
       "      <th>age</th>\n",
       "      <th>city</th>\n",
       "      <th>reg_date</th>\n",
       "      <th>plan</th>\n",
       "      <th>churn_date</th>\n",
       "    </tr>\n",
       "  </thead>\n",
       "  <tbody>\n",
       "    <tr>\n",
       "      <th>0</th>\n",
       "      <td>1000</td>\n",
       "      <td>Anamaria</td>\n",
       "      <td>Bauer</td>\n",
       "      <td>45</td>\n",
       "      <td>Atlanta-Sandy Springs-Roswell, GA MSA</td>\n",
       "      <td>2018-12-24</td>\n",
       "      <td>ultimate</td>\n",
       "      <td>NaN</td>\n",
       "    </tr>\n",
       "    <tr>\n",
       "      <th>1</th>\n",
       "      <td>1001</td>\n",
       "      <td>Mickey</td>\n",
       "      <td>Wilkerson</td>\n",
       "      <td>28</td>\n",
       "      <td>Seattle-Tacoma-Bellevue, WA MSA</td>\n",
       "      <td>2018-08-13</td>\n",
       "      <td>surf</td>\n",
       "      <td>NaN</td>\n",
       "    </tr>\n",
       "    <tr>\n",
       "      <th>2</th>\n",
       "      <td>1002</td>\n",
       "      <td>Carlee</td>\n",
       "      <td>Hoffman</td>\n",
       "      <td>36</td>\n",
       "      <td>Las Vegas-Henderson-Paradise, NV MSA</td>\n",
       "      <td>2018-10-21</td>\n",
       "      <td>surf</td>\n",
       "      <td>NaN</td>\n",
       "    </tr>\n",
       "    <tr>\n",
       "      <th>3</th>\n",
       "      <td>1003</td>\n",
       "      <td>Reynaldo</td>\n",
       "      <td>Jenkins</td>\n",
       "      <td>52</td>\n",
       "      <td>Tulsa, OK MSA</td>\n",
       "      <td>2018-01-28</td>\n",
       "      <td>surf</td>\n",
       "      <td>NaN</td>\n",
       "    </tr>\n",
       "    <tr>\n",
       "      <th>4</th>\n",
       "      <td>1004</td>\n",
       "      <td>Leonila</td>\n",
       "      <td>Thompson</td>\n",
       "      <td>40</td>\n",
       "      <td>Seattle-Tacoma-Bellevue, WA MSA</td>\n",
       "      <td>2018-05-23</td>\n",
       "      <td>surf</td>\n",
       "      <td>NaN</td>\n",
       "    </tr>\n",
       "  </tbody>\n",
       "</table>\n",
       "</div>"
      ],
      "text/plain": [
       "   user_id first_name  last_name  age                                   city  \\\n",
       "0     1000   Anamaria      Bauer   45  Atlanta-Sandy Springs-Roswell, GA MSA   \n",
       "1     1001     Mickey  Wilkerson   28        Seattle-Tacoma-Bellevue, WA MSA   \n",
       "2     1002     Carlee    Hoffman   36   Las Vegas-Henderson-Paradise, NV MSA   \n",
       "3     1003   Reynaldo    Jenkins   52                          Tulsa, OK MSA   \n",
       "4     1004    Leonila   Thompson   40        Seattle-Tacoma-Bellevue, WA MSA   \n",
       "\n",
       "     reg_date      plan churn_date  \n",
       "0  2018-12-24  ultimate        NaN  \n",
       "1  2018-08-13      surf        NaN  \n",
       "2  2018-10-21      surf        NaN  \n",
       "3  2018-01-28      surf        NaN  \n",
       "4  2018-05-23      surf        NaN  "
      ]
     },
     "execution_count": 8,
     "metadata": {},
     "output_type": "execute_result"
    }
   ],
   "source": [
    "# Display general information/summary about the users DataFrame\n",
    "users.info()  \n",
    "print(\"=\"*40)\n",
    "# Display the first few rows of the users DataFrame\n",
    "users.head()  "
   ]
  },
  {
   "cell_type": "markdown",
   "metadata": {},
   "source": [
    "\n",
    "We have the data of our users, and we can observe a wide variety of information, ranging from their names to their ages, including data such as their plan type and whether they are active or retired with the company. The data regarding their affiliation contains null values, which indicate that they are still with their plans and have not retired. Therefore, we can fill in these missing values with the current date, indicating how long they have been with their plan. We can also correct the date format to make it easier to work with."
   ]
  },
  {
   "cell_type": "code",
   "execution_count": 9,
   "metadata": {},
   "outputs": [],
   "source": [
    "# Convert reg_date and churn_date to datetime with the specified format\n",
    "users['reg_date'] = pd.to_datetime(users['reg_date'], format='%Y-%m-%d')\n",
    "users['churn_date'] = pd.to_datetime(users['churn_date'], format='%Y-%m-%d')\n",
    "\n",
    "# Calculate the subscription duration\n",
    "users['subscription_duration'] = (users['churn_date'] - users['reg_date']).dt.days\n",
    "\n",
    "# Handle users who have not yet canceled\n",
    "today = pd.to_datetime('today')\n",
    "users['subscription_duration'] = users['subscription_duration'].fillna((today - users['reg_date']).dt.days)\n"
   ]
  },
  {
   "cell_type": "markdown",
   "metadata": {},
   "source": [
    "We can categorize the users' age and also add a column that indicates whether a user is active or not."
   ]
  },
  {
   "cell_type": "code",
   "execution_count": 10,
   "metadata": {},
   "outputs": [],
   "source": [
    "def categorize_age(age):\n",
    "    if age < 20:\n",
    "        return 'Joven'\n",
    "    elif 20 <= age < 35:\n",
    "        return 'joven Adulto'\n",
    "    elif 35<= age <50:\n",
    "        return 'adulto'\n",
    "    else:\n",
    "        return 'Mayor'\n",
    "\n",
    "users['age_category'] = users['age'].apply(categorize_age)\n",
    "\n",
    "users['is_churn'] = users['churn_date'].notnull()"
   ]
  },
  {
   "cell_type": "markdown",
   "metadata": {},
   "source": [
    "#### Calls Data"
   ]
  },
  {
   "cell_type": "code",
   "execution_count": 11,
   "metadata": {},
   "outputs": [
    {
     "name": "stdout",
     "output_type": "stream",
     "text": [
      "<class 'pandas.core.frame.DataFrame'>\n",
      "RangeIndex: 137735 entries, 0 to 137734\n",
      "Data columns (total 4 columns):\n",
      " #   Column     Non-Null Count   Dtype  \n",
      "---  ------     --------------   -----  \n",
      " 0   id         137735 non-null  object \n",
      " 1   user_id    137735 non-null  int64  \n",
      " 2   call_date  137735 non-null  object \n",
      " 3   duration   137735 non-null  float64\n",
      "dtypes: float64(1), int64(1), object(2)\n",
      "memory usage: 4.2+ MB\n",
      "========================================\n",
      "         id  user_id   call_date  duration\n",
      "0   1000_93     1000  2018-12-27      8.52\n",
      "1  1000_145     1000  2018-12-27     13.66\n",
      "2  1000_247     1000  2018-12-27     14.48\n",
      "3  1000_309     1000  2018-12-28      5.76\n",
      "4  1000_380     1000  2018-12-30      4.22\n"
     ]
    }
   ],
   "source": [
    "# Display general information/summary about the calls DataFrame\n",
    "calls.info()  # Display a sample of the data for calls\n",
    "print(\"=\"*40)\n",
    "# Display the first few rows of the calls DataFrame\n",
    "print(calls.head())\n",
    "\n"
   ]
  },
  {
   "cell_type": "markdown",
   "metadata": {},
   "source": [
    "The DataFrame contains data on customer calls, including the user, call duration, and call dates. The user column should be a string, while call_duration should be numeric, and call_date should be in the datetime format. If any of these columns contain incorrect data types or missing values, they need to be corrected. For example, we may need to convert call_duration to numeric values and ensure call_date is in the proper date format. Any missing or incorrect data can be handled by filling, dropping, or converting values as needed."
   ]
  },
  {
   "cell_type": "code",
   "execution_count": 12,
   "metadata": {},
   "outputs": [],
   "source": [
    "# Convert the 'call_date' column to datetime format\n",
    "calls['call_date'] = pd.to_datetime(calls['call_date'])\n",
    "\n",
    "# Extract the year from the 'call_date' and create a new column\n",
    "calls['year'] = calls['call_date'].dt.year\n",
    "\n",
    "# Extract the month from the 'call_date' and create a new column\n",
    "calls['month'] = calls['call_date'].dt.month\n",
    "\n",
    "# Extract the day from the 'call_date' and create a new column\n",
    "calls['day'] = calls['call_date'].dt.day\n",
    "\n",
    "# Extract the name of the day of the week from the 'call_date' and create a new column\n",
    "calls['day_of_week'] = calls['call_date'].dt.day_name()\n",
    "\n",
    "# Extract the hour from the 'call_date' and create a new column\n",
    "calls['hour'] = calls['call_date'].dt.hour\n",
    "\n",
    "# Function to categorize call durations\n",
    "def duration_calls(duration):\n",
    "    if duration < 0:\n",
    "        return 'invalid'  \n",
    "    elif 0 <= duration < 5:\n",
    "        return 'short'  \n",
    "    elif 5 <= duration < 10:\n",
    "        return 'medium'  \n",
    "    else:\n",
    "        return 'long'  \n",
    "\n",
    "# Apply the 'duration_calls' function to the 'duration' column to create a new 'duration_call' column\n",
    "calls['duration_call'] = calls['duration'].apply(duration_calls)"
   ]
  },
  {
   "cell_type": "markdown",
   "metadata": {},
   "source": [
    "The code processes the calls DataFrame by extracting various date-related features such as the year, month, day, weekday, and hour from the call_date column, which helps in analyzing the data more granularly. It also defines a function, duration_calls, to categorize call durations into four categories: invalid, short, medium, and long. The function is then applied to the duration column to create a new duration_call column, enabling easier classification of call lengths. This allows for better understanding and analysis of call patterns based on both time and duration."
   ]
  },
  {
   "cell_type": "markdown",
   "metadata": {},
   "source": [
    "#### Messages data"
   ]
  },
  {
   "cell_type": "markdown",
   "metadata": {},
   "source": [
    "This code processes the messages DataFrame by extracting various components from the message_date column:\n",
    "\n",
    "Converts the message_date column to a datetime object.\n",
    "Extracts the year, month, day, day of the week, and hour from the message_date and creates new columns for each of these values."
   ]
  },
  {
   "cell_type": "code",
   "execution_count": 13,
   "metadata": {},
   "outputs": [
    {
     "name": "stdout",
     "output_type": "stream",
     "text": [
      "<class 'pandas.core.frame.DataFrame'>\n",
      "RangeIndex: 76051 entries, 0 to 76050\n",
      "Data columns (total 3 columns):\n",
      " #   Column        Non-Null Count  Dtype \n",
      "---  ------        --------------  ----- \n",
      " 0   id            76051 non-null  object\n",
      " 1   user_id       76051 non-null  int64 \n",
      " 2   message_date  76051 non-null  object\n",
      "dtypes: int64(1), object(2)\n",
      "memory usage: 1.7+ MB\n",
      "========================================\n",
      "         id  user_id message_date\n",
      "0  1000_125     1000   2018-12-27\n",
      "1  1000_160     1000   2018-12-31\n",
      "2  1000_223     1000   2018-12-31\n",
      "3  1000_251     1000   2018-12-27\n",
      "4  1000_255     1000   2018-12-26\n",
      "5  1000_346     1000   2018-12-29\n",
      "6  1000_386     1000   2018-12-30\n",
      "7  1000_413     1000   2018-12-31\n",
      "8  1000_502     1000   2018-12-27\n",
      "9  1000_525     1000   2018-12-28\n"
     ]
    }
   ],
   "source": [
    "# Display general information/summary about the messages DataFrame\n",
    "messages.info()  \n",
    "print(\"=\"*40)\n",
    "# Display the first 10 rows of the messages DataFrame\n",
    "print(messages.head(10))"
   ]
  },
  {
   "cell_type": "markdown",
   "metadata": {},
   "source": [
    "The DataFrame contains 76,051 entries with three columns: id, user_id, and message_date. All columns have non-null values, with id as an object, user_id as an integer, and message_date as an object. The memory usage is around 1.7 MB. The sample data shows that the id column consists of unique identifiers for each message, while user_id corresponds to the user associated with the message. The message_date column stores the date of each message, which appears to be in string format. The next step would be to convert the message_date column to a datetime format for easier analysis."
   ]
  },
  {
   "cell_type": "code",
   "execution_count": 14,
   "metadata": {},
   "outputs": [],
   "source": [
    "# Convert the 'message_date' column to datetime format\n",
    "messages['message_date'] = pd.to_datetime(messages['message_date'])\n",
    "\n",
    "# Extract the year from the 'message_date' and create a new column\n",
    "messages['year'] = messages['message_date'].dt.year\n",
    "\n",
    "# Extract the month from the 'message_date' and create a new column\n",
    "messages['month'] = messages['message_date'].dt.month\n",
    "\n",
    "# Extract the day from the 'message_date' and create a new column\n",
    "messages['day'] = messages['message_date'].dt.day\n",
    "\n",
    "# Extract the name of the day of the week from the 'message_date' and create a new column\n",
    "messages['day_of_week'] = messages['message_date'].dt.day_name()\n",
    "\n",
    "# Extract the hour from the 'message_date' and create a new column\n",
    "messages['hour'] = messages['message_date'].dt.hour"
   ]
  },
  {
   "cell_type": "markdown",
   "metadata": {},
   "source": [
    "This code processes the messages DataFrame by extracting various components from the message_date column:\n",
    "\n",
    "Converts the message_date column to a datetime object.\n",
    "Extracts the year, month, day, day of the week, and hour from the message_date and creates new columns for each of these values."
   ]
  },
  {
   "cell_type": "markdown",
   "metadata": {},
   "source": [
    "#### Internet data"
   ]
  },
  {
   "cell_type": "code",
   "execution_count": 15,
   "metadata": {},
   "outputs": [
    {
     "name": "stdout",
     "output_type": "stream",
     "text": [
      "<class 'pandas.core.frame.DataFrame'>\n",
      "RangeIndex: 104825 entries, 0 to 104824\n",
      "Data columns (total 4 columns):\n",
      " #   Column        Non-Null Count   Dtype  \n",
      "---  ------        --------------   -----  \n",
      " 0   id            104825 non-null  object \n",
      " 1   user_id       104825 non-null  int64  \n",
      " 2   session_date  104825 non-null  object \n",
      " 3   mb_used       104825 non-null  float64\n",
      "dtypes: float64(1), int64(1), object(2)\n",
      "memory usage: 3.2+ MB\n",
      "==================================================\n",
      "         id  user_id session_date  mb_used\n",
      "0   1000_13     1000   2018-12-29    89.86\n",
      "1  1000_204     1000   2018-12-31     0.00\n",
      "2  1000_379     1000   2018-12-28   660.40\n",
      "3  1000_413     1000   2018-12-26   270.99\n",
      "4  1000_442     1000   2018-12-27   880.22\n",
      "5    1001_0     1001   2018-08-24   284.68\n",
      "6    1001_3     1001   2018-12-09   656.04\n",
      "7    1001_4     1001   2018-11-04    16.97\n",
      "8   1001_10     1001   2018-11-27   135.18\n",
      "9   1001_15     1001   2018-12-13   761.92\n"
     ]
    }
   ],
   "source": [
    "# Display general information/summary about the internet DataFrame\n",
    "internet.info()  \n",
    "print(\"=\"*50)\n",
    "# Display the first 10 rows of the internet DataFrame\n",
    "print(internet.head(10))  "
   ]
  },
  {
   "cell_type": "markdown",
   "metadata": {},
   "source": [
    "The code processes and aggregates internet usage data by first converting the session_date to a datetime format, allowing for the extraction of year, month, day, and day of the week. This enables more detailed time-based analysis. The data is then grouped by user_id, year, and month to calculate the total data usage for each user on a monthly basis. This total is converted from megabytes to gigabytes and rounded to the nearest whole number. The resulting total_gb_df DataFrame offers a clear summary of each user's monthly internet usage in gigabytes, facilitating the analysis of consumption patterns over time."
   ]
  },
  {
   "cell_type": "code",
   "execution_count": 16,
   "metadata": {},
   "outputs": [
    {
     "name": "stdout",
     "output_type": "stream",
     "text": [
      "      user_id  year  month   mb_used  gb_used\n",
      "0        1000  2018     12   1901.47      2.0\n",
      "1        1001  2018      8   6919.15      7.0\n",
      "2        1001  2018      9  13314.82     14.0\n",
      "3        1001  2018     10  22330.49     22.0\n",
      "4        1001  2018     11  18504.30     19.0\n",
      "...       ...   ...    ...       ...      ...\n",
      "2272     1498  2018     12  23137.69     23.0\n",
      "2273     1499  2018      9  12984.76     13.0\n",
      "2274     1499  2018     10  19492.43     20.0\n",
      "2275     1499  2018     11  16813.83     17.0\n",
      "2276     1499  2018     12  22059.21     22.0\n",
      "\n",
      "[2277 rows x 5 columns]\n"
     ]
    }
   ],
   "source": [
    "# Convert 'session_date' to datetime format for easier analysis\n",
    "internet['session_date'] = pd.to_datetime(internet['session_date'])\n",
    "\n",
    "# Extract year, month, day, and day of the week from the 'session_date' column\n",
    "internet['year'] = internet['session_date'].dt.year\n",
    "internet['month'] = internet['session_date'].dt.month\n",
    "internet['day'] = internet['session_date'].dt.day\n",
    "internet['day_of_week'] = internet['session_date'].dt.day_name()\n",
    "\n",
    "# Group the data by user_id, year, and month, then sum the 'mb_used' to calculate total usage per user per month\n",
    "total_usage = internet.groupby(['user_id', 'year', 'month'])['mb_used'].sum().reset_index()\n",
    "\n",
    "# Round the total data usage to the nearest gigabyte for simplicity\n",
    "total_usage['gb_used'] = np.ceil(total_usage['mb_used'] / 1024)\n",
    "\n",
    "# Convert the grouped data into a new DataFrame\n",
    "total_gb_df = pd.DataFrame(total_usage)\n",
    "\n",
    "# Print the total data usage per user per month in gigabytes\n",
    "print(total_gb_df)\n"
   ]
  },
  {
   "cell_type": "markdown",
   "metadata": {},
   "source": [
    "The code processes and aggregates internet usage data for each user. It starts by converting the session_date column to a datetime format and then extracts the year, month, day, and day of the week into new columns for easier time-based analysis. The data is grouped by user_id, year, and month to calculate the total data usage (mb_used) for each user per month. This total is then converted to gigabytes and rounded to the nearest whole number. The resulting DataFrame, total_gb_df, shows the total data usage in gigabytes for each user, providing a summary of their monthly internet consumption."
   ]
  },
  {
   "cell_type": "markdown",
   "metadata": {},
   "source": [
    "## fare conditions\n",
    "We'll review the plan options the company has for its customers."
   ]
  },
  {
   "cell_type": "code",
   "execution_count": 17,
   "metadata": {},
   "outputs": [
    {
     "name": "stdout",
     "output_type": "stream",
     "text": [
      "Plan types\n",
      "0        surf\n",
      "1    ultimate\n",
      "Name: plan_name, dtype: object\n",
      "Plan costs\n",
      "0    20\n",
      "1    70\n",
      "Name: usd_monthly_pay, dtype: int64\n"
     ]
    }
   ],
   "source": [
    "# Print the plan options and make sure they are clear\n",
    "print(\"Plan types\")\n",
    "print(plans[\"plan_name\"])\n",
    "print(\"Plan costs\")\n",
    "print(plans[\"usd_monthly_pay\"])"
   ]
  },
  {
   "cell_type": "markdown",
   "metadata": {},
   "source": [
    "## Data per user\n",
    "We will refresh the data to perform a more comprehensive analysis"
   ]
  },
  {
   "cell_type": "markdown",
   "metadata": {},
   "source": [
    "### Calls"
   ]
  },
  {
   "cell_type": "code",
   "execution_count": 18,
   "metadata": {},
   "outputs": [
    {
     "name": "stdout",
     "output_type": "stream",
     "text": [
      "      user_id  year  month  total_calls\n",
      "0        1000  2018     12           16\n",
      "1        1001  2018      8           27\n",
      "2        1001  2018      9           49\n",
      "3        1001  2018     10           65\n",
      "4        1001  2018     11           64\n",
      "...       ...   ...    ...          ...\n",
      "2253     1498  2018     12           39\n",
      "2254     1499  2018      9           41\n",
      "2255     1499  2018     10           53\n",
      "2256     1499  2018     11           45\n",
      "2257     1499  2018     12           65\n",
      "\n",
      "[2258 rows x 4 columns]\n"
     ]
    }
   ],
   "source": [
    "# Calculate the number of calls made by each user per month. \n",
    "\n",
    "calls['year'] = calls['call_date'].dt.year\n",
    "calls['month'] = calls['call_date'].dt.month\n",
    "calls['day']= calls['call_date'].dt.day\n",
    "calls['day_of_week']= calls['call_date'].dt.day_name()\n",
    "\n",
    "# Calculate the number of calls per user and month\n",
    "monthly_calls = calls.groupby(['user_id', 'year', 'month']).size().reset_index(name='total_calls')\n",
    "\n",
    "monthly_calls_df= pd.DataFrame(monthly_calls)\n",
    "print(monthly_calls_df)"
   ]
  },
  {
   "cell_type": "code",
   "execution_count": 19,
   "metadata": {},
   "outputs": [
    {
     "name": "stdout",
     "output_type": "stream",
     "text": [
      "      user_id  year  month  call_duration_minutes\n",
      "0        1000  2018     12                   16.0\n",
      "1        1001  2018      8                   21.0\n",
      "2        1001  2018      9                   38.0\n",
      "3        1001  2018     10                   45.0\n",
      "4        1001  2018     11                   44.0\n",
      "...       ...   ...    ...                    ...\n",
      "2253     1498  2018     12                   31.0\n",
      "2254     1499  2018      9                   35.0\n",
      "2255     1499  2018     10                   38.0\n",
      "2256     1499  2018     11                   36.0\n",
      "2257     1499  2018     12                   52.0\n",
      "\n",
      "[2258 rows x 4 columns]\n"
     ]
    }
   ],
   "source": [
    "# Calculate the number of minutes used by each user per month.\n",
    "# Round the call duration from seconds to minutes\n",
    "calls['call_duration_minutes'] = calls['duration'].apply(lambda x: (x + 59) // 60)\n",
    "\n",
    "# Convert the 'call_date' column to a datetime format\n",
    "calls['call_date'] = pd.to_datetime(calls['call_date'])\n",
    "\n",
    "# Calculate the number of minutes used by each user per month\n",
    "calls['year'] = calls['call_date'].dt.year\n",
    "calls['month'] = calls['call_date'].dt.month\n",
    "calls['day'] = calls['call_date'].dt.day\n",
    "calls['day_of_week'] = calls['call_date'].dt.day_name()\n",
    "\n",
    "# Group by 'user_id', 'year', and 'month' and sum the 'call_duration_minutes'\n",
    "monthly_minutes = calls.groupby(['user_id', 'year', 'month'])['call_duration_minutes'].sum().reset_index()\n",
    "monthly_minutes_df = pd.DataFrame(monthly_minutes)\n",
    "\n",
    "# Print the resulting DataFrame\n",
    "print(monthly_minutes_df)\n"
   ]
  },
  {
   "cell_type": "markdown",
   "metadata": {},
   "source": [
    "### Messages"
   ]
  },
  {
   "cell_type": "code",
   "execution_count": 20,
   "metadata": {},
   "outputs": [
    {
     "name": "stdout",
     "output_type": "stream",
     "text": [
      "      user_id  year  month  total_messages\n",
      "0        1000  2018     12              11\n",
      "1        1001  2018      8              30\n",
      "2        1001  2018      9              44\n",
      "3        1001  2018     10              53\n",
      "4        1001  2018     11              36\n",
      "...       ...   ...    ...             ...\n",
      "1801     1496  2018      9              21\n",
      "1802     1496  2018     10              18\n",
      "1803     1496  2018     11              13\n",
      "1804     1496  2018     12              11\n",
      "1805     1497  2018     12              50\n",
      "\n",
      "[1806 rows x 4 columns]\n"
     ]
    }
   ],
   "source": [
    "# Calculate the year and month for each message\n",
    "messages['year'] = messages['message_date'].dt.year\n",
    "messages['month'] = messages['message_date'].dt.month\n",
    "messages['day'] = messages['message_date'].dt.day\n",
    "messages['day_of_week'] = messages['message_date'].dt.day_name()\n",
    "\n",
    "# Calculate the number of messages per user and month\n",
    "monthly_messages = messages.groupby(['user_id', 'year', 'month']).size().reset_index(name='total_messages')\n",
    "\n",
    "monthly_messages_df = pd.DataFrame(monthly_messages)\n",
    "\n",
    "# Show the new DataFrame\n",
    "print(monthly_messages_df)\n"
   ]
  },
  {
   "cell_type": "markdown",
   "metadata": {},
   "source": [
    "### Internet"
   ]
  },
  {
   "cell_type": "code",
   "execution_count": 21,
   "metadata": {},
   "outputs": [
    {
     "name": "stdout",
     "output_type": "stream",
     "text": [
      "      user_id  year  month   mb_used\n",
      "0        1000  2018     12   1901.47\n",
      "1        1001  2018      8   6919.15\n",
      "2        1001  2018      9  13314.82\n",
      "3        1001  2018     10  22330.49\n",
      "4        1001  2018     11  18504.30\n",
      "...       ...   ...    ...       ...\n",
      "2272     1498  2018     12  23137.69\n",
      "2273     1499  2018      9  12984.76\n",
      "2274     1499  2018     10  19492.43\n",
      "2275     1499  2018     11  16813.83\n",
      "2276     1499  2018     12  22059.21\n",
      "\n",
      "[2277 rows x 4 columns]\n"
     ]
    }
   ],
   "source": [
    "# Calculate the volume of Internet traffic used by each user per month. Save the result.\n",
    "internet['year'] = internet['session_date'].dt.year\n",
    "internet['month'] = internet['session_date'].dt.month\n",
    "\n",
    "# Group by 'user_id', 'year', and 'month' and sum the 'mb_used'\n",
    "monthly_gb = internet.groupby(['user_id', 'year', 'month'])['mb_used'].sum().reset_index()\n",
    "\n",
    "# Convert the result into a new DataFrame\n",
    "monthly_gb_df = pd.DataFrame(monthly_gb)\n",
    "\n",
    "# Print the new DataFrame\n",
    "print(monthly_gb_df)\n"
   ]
  },
  {
   "cell_type": "code",
   "execution_count": 22,
   "metadata": {},
   "outputs": [
    {
     "name": "stdout",
     "output_type": "stream",
     "text": [
      "   user_id  year  month   mb_used  total_messages  call_duration_minutes\n",
      "0     1000  2018     12   1901.47            11.0                   16.0\n",
      "1     1001  2018      8   6919.15            30.0                   21.0\n",
      "2     1001  2018      9  13314.82            44.0                   38.0\n",
      "3     1001  2018     10  22330.49            53.0                   45.0\n",
      "4     1001  2018     11  18504.30            36.0                   44.0\n"
     ]
    }
   ],
   "source": [
    "# Merge the DataFrames based on user_id and month\n",
    "merged_df = monthly_messages_df.merge(monthly_minutes_df, on=['user_id', 'year', 'month'], how='outer')\n",
    "\n",
    "# Merge the resulting DataFrame with total_gb_df\n",
    "merged_df = monthly_gb_df.merge(merged_df, on=['user_id', 'year', 'month'], how='outer')\n",
    "\n",
    "# Visualize the resulting DataFrame\n",
    "print(merged_df.head())\n"
   ]
  },
  {
   "cell_type": "code",
   "execution_count": 23,
   "metadata": {},
   "outputs": [
    {
     "name": "stdout",
     "output_type": "stream",
     "text": [
      "   user_id  year  month   mb_used  total_messages  call_duration_minutes  \\\n",
      "0     1000  2018     12   1901.47            11.0                   16.0   \n",
      "1     1001  2018      8   6919.15            30.0                   21.0   \n",
      "2     1001  2018      9  13314.82            44.0                   38.0   \n",
      "3     1001  2018     10  22330.49            53.0                   45.0   \n",
      "4     1001  2018     11  18504.30            36.0                   44.0   \n",
      "\n",
      "  first_name  last_name  age                                   city  ...  \\\n",
      "0   Anamaria      Bauer   45  Atlanta-Sandy Springs-Roswell, GA MSA  ...   \n",
      "1     Mickey  Wilkerson   28        Seattle-Tacoma-Bellevue, WA MSA  ...   \n",
      "2     Mickey  Wilkerson   28        Seattle-Tacoma-Bellevue, WA MSA  ...   \n",
      "3     Mickey  Wilkerson   28        Seattle-Tacoma-Bellevue, WA MSA  ...   \n",
      "4     Mickey  Wilkerson   28        Seattle-Tacoma-Bellevue, WA MSA  ...   \n",
      "\n",
      "  is_churn messages_included mb_per_month_included  minutes_included  \\\n",
      "0    False              1000                 30000              3000   \n",
      "1    False                50                 15000               500   \n",
      "2    False                50                 15000               500   \n",
      "3    False                50                 15000               500   \n",
      "4    False                50                 15000               500   \n",
      "\n",
      "  usd_monthly_pay  usd_per_gb  usd_per_message  usd_per_minute  plan_name  \\\n",
      "0              70           7             0.01            0.01   ultimate   \n",
      "1              20          10             0.03            0.03       surf   \n",
      "2              20          10             0.03            0.03       surf   \n",
      "3              20          10             0.03            0.03       surf   \n",
      "4              20          10             0.03            0.03       surf   \n",
      "\n",
      "   gb_per_month  \n",
      "0     29.296875  \n",
      "1     14.648438  \n",
      "2     14.648438  \n",
      "3     14.648438  \n",
      "4     14.648438  \n",
      "\n",
      "[5 rows x 25 columns]\n"
     ]
    }
   ],
   "source": [
    "# Merge the DataFrame with user information based on 'user_id'\n",
    "merged_plans = merged_df.merge(users, on='user_id', how='left')\n",
    "\n",
    "# Merge the resulting DataFrame with plan information based on the plan columns\n",
    "final_merged_data = merged_plans.merge(plans, left_on='plan', right_on='plan_name', how='left')\n",
    "\n",
    "# Print the resulting DataFrame\n",
    "print(final_merged_data.head())\n"
   ]
  },
  {
   "cell_type": "code",
   "execution_count": 26,
   "metadata": {},
   "outputs": [
    {
     "name": "stdout",
     "output_type": "stream",
     "text": [
      "    user_id  year  month  total_income\n",
      "0      1000  2018     12     70.000000\n",
      "1      1001  2018      8     20.000000\n",
      "2      1001  2018      9     20.000000\n",
      "3      1001  2018     10     91.676816\n",
      "4      1001  2018     11     54.221680\n",
      "5      1001  2018     12     62.667773\n",
      "6      1002  2018     10     20.000000\n",
      "7      1002  2018     11     62.432422\n",
      "8      1002  2018     12     20.000000\n",
      "9      1003  2018     12    137.618555\n",
      "10     1004  2018      5     20.000000\n",
      "11     1004  2018      6     75.398633\n",
      "12     1004  2018      7    112.935742\n",
      "13     1004  2018      8    146.774805\n",
      "14     1004  2018      9     57.624219\n",
      "15     1004  2018     10     20.000000\n",
      "16     1004  2018     11     86.902148\n",
      "17     1004  2018     12     82.395410\n",
      "18     1005  2018     12     40.900098\n",
      "19     1006  2018     11     70.000000\n",
      "20     1006  2018     12     84.484121\n",
      "21     1007  2018      8    112.216328\n",
      "22     1007  2018      9    148.163574\n",
      "23     1007  2018     10    243.762480\n",
      "24     1007  2018     11    111.152344\n",
      "25     1007  2018     12    157.395312\n",
      "26     1008  2018     10     70.000000\n",
      "27     1008  2018     11     70.000000\n",
      "28     1008  2018     12     70.000000\n",
      "29     1009  2018      5           NaN\n",
      "30     1009  2018      6           NaN\n",
      "31     1009  2018      7           NaN\n",
      "32     1009  2018      8           NaN\n",
      "33     1009  2018      9           NaN\n",
      "34     1009  2018     10           NaN\n",
      "35     1009  2018     11           NaN\n",
      "36     1009  2018     12           NaN\n",
      "37     1010  2018      3           NaN\n",
      "38     1010  2018      4           NaN\n",
      "39     1010  2018      5           NaN\n",
      "40     1010  2018      6           NaN\n",
      "41     1010  2018      7           NaN\n",
      "42     1010  2018      8           NaN\n",
      "43     1010  2018      9           NaN\n",
      "44     1010  2018     10           NaN\n",
      "45     1010  2018     11           NaN\n",
      "46     1011  2018      6     70.000000\n",
      "47     1011  2018      7     70.000000\n",
      "48     1011  2018      8     70.000000\n",
      "49     1011  2018      9     70.000000\n"
     ]
    }
   ],
   "source": [
    "# Calculate the excess usage\n",
    "final_merged_data['excess_minutes'] = (final_merged_data['call_duration_minutes'] - final_merged_data['minutes_included']).clip(lower=0)\n",
    "final_merged_data['excess_messages'] = (final_merged_data['total_messages'] - final_merged_data['messages_included']).clip(lower=0)\n",
    "final_merged_data['excess_data'] = ((final_merged_data['mb_used']/ 1024) - final_merged_data['mb_per_month_included'] / 1024).clip(lower=0)\n",
    "\n",
    "# Calculate the additional costs\n",
    "final_merged_data['extra_minutes_cost'] = final_merged_data['excess_minutes'] * final_merged_data['usd_per_minute']\n",
    "final_merged_data['extra_messages_cost'] = final_merged_data['excess_messages'] * final_merged_data['usd_per_message']\n",
    "final_merged_data['extra_data_cost'] = final_merged_data['excess_data'] * final_merged_data['usd_per_gb']\n",
    "\n",
    "# Calculate the total monthly income\n",
    "final_merged_data['total_income'] = final_merged_data['usd_monthly_pay'] + final_merged_data['extra_minutes_cost'] + final_merged_data['extra_messages_cost'] + final_merged_data['extra_data_cost']\n",
    "\n",
    "# Show the result\n",
    "print(final_merged_data[['user_id', 'year', 'month', 'total_income']].head(50))\n"
   ]
  },
  {
   "cell_type": "markdown",
   "metadata": {},
   "source": [
    "## User analysis"
   ]
  },
  {
   "cell_type": "markdown",
   "metadata": {},
   "source": [
    "### Calls"
   ]
  },
  {
   "cell_type": "code",
   "execution_count": 27,
   "metadata": {},
   "outputs": [
    {
     "data": {
      "image/png": "[encoded data removed]",
      "text/plain": [
       "<Figure size 1200x800 with 1 Axes>"
      ]
     },
     "metadata": {},
     "output_type": "display_data"
    }
   ],
   "source": [
    "# Compare the average call duration per plan and per month. Plot a bar chart to visualize it.\n",
    "average_duration = final_merged_data.groupby(['plan', 'year', 'month'])['call_duration_minutes'].mean().reset_index()\n",
    "\n",
    "# Create a figure and axes\n",
    "plt.figure(figsize=(12, 8))\n",
    "\n",
    "# Get the unique plans\n",
    "plans = average_duration['plan'].unique()\n",
    "\n",
    "# Plot a bar chart for each plan\n",
    "for plan in plans:\n",
    "    # Filter data by plan\n",
    "    plan_data = average_duration[average_duration['plan'] == plan]\n",
    "    \n",
    "    # Create the bar chart\n",
    "    plt.bar(\n",
    "        plan_data['month'] + (0.1 * plans.tolist().index(plan)),  # Offset to avoid overlapping bars\n",
    "        plan_data['call_duration_minutes'],\n",
    "        width=0.1,\n",
    "        label=plan\n",
    "    )\n",
    "\n",
    "# Chart settings\n",
    "plt.title('Average Call Duration by Plan and Month')\n",
    "plt.xlabel('Month')\n",
    "plt.ylabel('Average Call Duration (minutes)')\n",
    "plt.legend(title='Plan')\n",
    "plt.xticks(range(1, 13), ['Jan', 'Feb', 'Mar', 'Apr', 'May', 'Jun', 'Jul', 'Aug', 'Sep', 'Oct', 'Nov', 'Dec'])\n",
    "plt.grid(axis='y')\n",
    "\n",
    "# Show the chart\n",
    "plt.show()\n"
   ]
  },
  {
   "cell_type": "markdown",
   "metadata": {},
   "source": [
    "The behavior of both plans is quite similar, with the Ultimate plan generally being the predominant one, except for a few months. However, in February, the Ultimate plan takes a significant lead over the Surf plan."
   ]
  },
  {
   "cell_type": "code",
   "execution_count": 28,
   "metadata": {},
   "outputs": [
    {
     "data": {
      "image/png": "[encoded data removed]",
      "text/plain": [
       "<Figure size 1200x800 with 1 Axes>"
      ]
     },
     "metadata": {},
     "output_type": "display_data"
    }
   ],
   "source": [
    "# Group the data by plan, year, and month, and sum the minutes per user\n",
    "monthly_minutes = final_merged_data.groupby(['user_id', 'plan', 'year', 'month'])['call_duration_minutes'].sum().reset_index()\n",
    "\n",
    "# Get the unique plans\n",
    "plans = monthly_minutes['plan'].unique()\n",
    "\n",
    "# Create a figure and axes\n",
    "plt.figure(figsize=(12, 8))\n",
    "\n",
    "# Plot a histogram for each plan\n",
    "for plan in plans:\n",
    "    # Filter data by plan\n",
    "    plan_data = monthly_minutes[monthly_minutes['plan'] == plan]\n",
    "    \n",
    "    # Create the histogram\n",
    "    plt.hist(\n",
    "        plan_data['call_duration_minutes'],\n",
    "        bins=30,\n",
    "        alpha=0.5,\n",
    "        label=plan\n",
    "    )\n",
    "\n",
    "# Chart settings\n",
    "plt.title('Distribution of Monthly Minutes by Plan')\n",
    "plt.xlabel('Number of Monthly Minutes')\n",
    "plt.ylabel('Frequency')\n",
    "plt.legend(title='Plan')\n",
    "plt.grid(axis='y')\n",
    "\n",
    "# Show the chart\n",
    "plt.show()\n"
   ]
  },
  {
   "cell_type": "code",
   "execution_count": 29,
   "metadata": {},
   "outputs": [
    {
     "name": "stdout",
     "output_type": "stream",
     "text": [
      "Mean monthly call duration for the Surf plan: 45.77113795295613\n",
      "Variance of monthly call duration for the Surf plan: 611.7109476228135\n",
      "Mean monthly call duration for the Ultimate plan: 46.080555555555556\n",
      "Variance of monthly call duration for the Ultimate plan: 652.3884948230567\n"
     ]
    }
   ],
   "source": [
    "# Calculate the mean and variance of monthly call duration.\n",
    "# Group the data by user_id, year, month, and plan, and sum the minutes per user and plan\n",
    "monthly_minutes_by_plan = final_merged_data.groupby(['user_id', 'year', 'month', 'plan'])['call_duration_minutes'].sum().reset_index()\n",
    "\n",
    "# Calculate the mean and variance of the monthly call duration for each plan\n",
    "mean_duration_by_plan = monthly_minutes_by_plan.groupby('plan')['call_duration_minutes'].mean()\n",
    "variance_duration_by_plan = monthly_minutes_by_plan.groupby('plan')['call_duration_minutes'].var()\n",
    "\n",
    "# Show the results\n",
    "print(f\"Mean monthly call duration for the Surf plan: {mean_duration_by_plan['surf']}\")\n",
    "print(f\"Variance of monthly call duration for the Surf plan: {variance_duration_by_plan['surf']}\")\n",
    "\n",
    "print(f\"Mean monthly call duration for the Ultimate plan: {mean_duration_by_plan['ultimate']}\")\n",
    "print(f\"Variance of monthly call duration for the Ultimate plan: {variance_duration_by_plan['ultimate']}\")\n"
   ]
  },
  {
   "cell_type": "markdown",
   "metadata": {},
   "source": [
    "The analysis shows that the mean monthly call duration for both the Surf and Ultimate plans is quite similar, with the Ultimate plan being slightly higher. However, the Ultimate plan exhibits greater variance, indicating more fluctuation in call duration among its users. Despite the similarity in average usage, the Ultimate plan, being more expensive, is preferred by users who value its additional features and higher quality service. This suggests that marketing strategies should highlight the premium benefits of the Ultimate plan to justify its cost, while the Surf plan can be promoted for its affordability and consistent value."
   ]
  },
  {
   "cell_type": "code",
   "execution_count": 30,
   "metadata": {},
   "outputs": [
    {
     "data": {
      "image/png": "[encoded data removed]",
      "text/plain": [
       "<Figure size 2000x600 with 2 Axes>"
      ]
     },
     "metadata": {},
     "output_type": "display_data"
    }
   ],
   "source": [
    "# Filter the data by each plan\n",
    "surf_data = final_merged_data[final_merged_data['plan'] == 'surf']\n",
    "ultimate_data = final_merged_data[final_merged_data['plan'] == 'ultimate']\n",
    "\n",
    "# Create the figure and axes\n",
    "fig, axes = plt.subplots(nrows=1, ncols=2, figsize=(20, 6), sharey=True)\n",
    "\n",
    "# Plot the box plot for the 'surf' plan\n",
    "surf_data.boxplot(column='call_duration_minutes', by=['year', 'month'], ax=axes[0])\n",
    "axes[0].set_title('Surf Plan')\n",
    "axes[0].set_xlabel('Month')\n",
    "axes[0].set_ylabel('Call Duration (minutes)')\n",
    "axes[0].tick_params(axis='x', rotation=45)\n",
    "\n",
    "# Plot the box plot for the 'ultimate' plan\n",
    "ultimate_data.boxplot(column='call_duration_minutes', by=['year', 'month'], ax=axes[1])\n",
    "axes[1].set_title('Ultimate Plan')\n",
    "axes[1].set_xlabel('Month')\n",
    "axes[1].tick_params(axis='x', rotation=45)\n",
    "\n",
    "# Set the overall title\n",
    "plt.suptitle('Comparison of Monthly Call Duration by Plan')\n",
    "plt.subplots_adjust(top=0.88)  # Adjust the position of the overall title\n",
    "\n",
    "# Show the box plot\n",
    "plt.show()\n"
   ]
  },
  {
   "cell_type": "markdown",
   "metadata": {},
   "source": [
    "Although the Ultimate plan shows higher usage compared to the Surf plan, both plans exhibit similar trend behaviors. This similarity is evident because most of their outliers tend to appear towards the end of the year, which may coincide with the beginning of the holiday season. This seasonal effect could lead to increased usage patterns during that period."
   ]
  },
  {
   "cell_type": "markdown",
   "metadata": {},
   "source": [
    "### Messages"
   ]
  },
  {
   "cell_type": "code",
   "execution_count": 31,
   "metadata": {},
   "outputs": [
    {
     "data": {
      "image/png": "[encoded data removed]",
      "text/plain": [
       "<Figure size 1000x600 with 1 Axes>"
      ]
     },
     "metadata": {},
     "output_type": "display_data"
    }
   ],
   "source": [
    "# Compare the number of messages sent each month by users of each plan\n",
    "# Group by plan and month, and calculate the average number of messages\n",
    "messages_by_plan_month = final_merged_data.groupby(['plan', 'month'])['total_messages'].mean().reset_index()\n",
    "\n",
    "# Create a figure and axis for the plot\n",
    "plt.figure(figsize=(10, 6))\n",
    "\n",
    "# Plot the bar chart to compare the number of messages by plan and month\n",
    "for plan in messages_by_plan_month['plan'].unique():\n",
    "    plan_data = messages_by_plan_month[messages_by_plan_month['plan'] == plan]\n",
    "    plt.plot(plan_data['month'], plan_data['total_messages'], marker='o', label=plan)\n",
    "\n",
    "# Set labels and title\n",
    "plt.title('Average Number of Messages by Plan and Month')\n",
    "plt.xlabel('Month')\n",
    "plt.ylabel('Average Number of Messages')\n",
    "plt.xticks(range(1, 13))  # Set the months on the x-axis\n",
    "plt.legend(title='Plan')\n",
    "\n",
    "# Show the plot\n",
    "plt.grid(True)\n",
    "plt.tight_layout()\n",
    "plt.show()\n"
   ]
  },
  {
   "cell_type": "markdown",
   "metadata": {},
   "source": [
    "The previous trends are also reflected in messaging patterns, where the Ultimate plan is more frequently used. However, there's a noticeable increase in usage as the holiday season begins. This suggests that users tend to communicate more via messages during this period, likely due to the festivities and increased social interactions."
   ]
  },
  {
   "cell_type": "markdown",
   "metadata": {},
   "source": [
    "### Internet"
   ]
  },
  {
   "cell_type": "code",
   "execution_count": 32,
   "metadata": {},
   "outputs": [
    {
     "data": {
      "image/png": "[encoded data removed]",
      "text/plain": [
       "<Figure size 1200x800 with 1 Axes>"
      ]
     },
     "metadata": {},
     "output_type": "display_data"
    }
   ],
   "source": [
    "# Compare the amount of Internet traffic consumed by users per plan\n",
    "\n",
    "# Group the data by user_id, plan, year, and month, and sum the Internet traffic per user\n",
    "monthly_data_usage = final_merged_data.groupby(['user_id', 'plan', 'year', 'month'])['mb_used'].sum().reset_index()\n",
    "\n",
    "# Get the unique plans\n",
    "plans = monthly_data_usage['plan'].unique()\n",
    "\n",
    "# Create a figure and axes\n",
    "plt.figure(figsize=(12, 8))\n",
    "\n",
    "# Plot a histogram for each plan\n",
    "for plan in plans:\n",
    "    # Filter data by plan\n",
    "    plan_data = monthly_data_usage[monthly_data_usage['plan'] == plan]\n",
    "    \n",
    "    # Create the histogram\n",
    "    plt.hist(\n",
    "        plan_data['mb_used'],\n",
    "        bins=30,\n",
    "        alpha=0.5,\n",
    "        label=plan\n",
    "    )\n",
    "\n",
    "# Chart settings\n",
    "plt.title('Distribution of Monthly Internet Traffic by Plan')\n",
    "plt.xlabel('Monthly Internet Traffic (MB)')\n",
    "plt.ylabel('Frequency')\n",
    "plt.legend(title='Plan')\n",
    "plt.grid(axis='y')\n",
    "\n",
    "# Show the chart\n",
    "plt.show()\n"
   ]
  },
  {
   "cell_type": "markdown",
   "metadata": {},
   "source": [
    "## Income"
   ]
  },
  {
   "cell_type": "code",
   "execution_count": 34,
   "metadata": {},
   "outputs": [
    {
     "name": "stdout",
     "output_type": "stream",
     "text": [
      "       plan  total_income\n",
      "0      surf  67693.940840\n",
      "1  ultimate  41900.239609\n"
     ]
    }
   ],
   "source": [
    "# Calculate total income per plan\n",
    "income_by_plan = final_merged_data.groupby('plan')['total_income'].sum().reset_index()\n",
    "\n",
    "# Convert the income to millions of dollars\n",
    "income_by_plan['total_income'] = income_by_plan['total_income']\n",
    "\n",
    "print(income_by_plan)\n"
   ]
  },
  {
   "cell_type": "markdown",
   "metadata": {},
   "source": [
    "* The Surf plan is the most popular among Megaline users.\n",
    "\n",
    "* The analyses indicate that differentiated approaches can be taken for promoting both plans, thus attracting new customers and retaining existing ones, offering greater flexibility to grow the income from the Surf plan.\n",
    "\n",
    "* For the Ultimate plan, the approaches should focus on highlighting the quality and reliability that come with having consistent and extensive availability of services like internet and calls."
   ]
  },
  {
   "cell_type": "markdown",
   "metadata": {},
   "source": [
    "## Testing statistical hypotheses"
   ]
  },
  {
   "cell_type": "markdown",
   "metadata": {},
   "source": [
    "### First hypothesis\n",
    "The average income of users of the Ultimate and Surf plans differs."
   ]
  },
  {
   "cell_type": "code",
   "execution_count": 35,
   "metadata": {},
   "outputs": [
    {
     "name": "stdout",
     "output_type": "stream",
     "text": [
      "p-value: 0.02603973655069768\n",
      "We reject the null hypothesis\n"
     ]
    }
   ],
   "source": [
    "# Drop rows with missing values in the final_merged_data dataframe\n",
    "final_merged_data.dropna(inplace=True)\n",
    "\n",
    "# Filter users of the \"Surf\" plan\n",
    "surf_users_df = final_merged_data[final_merged_data['plan'] == 'surf']\n",
    "\n",
    "# Filter users of the \"Ultimate\" plan\n",
    "ultimate_users_df = final_merged_data[final_merged_data['plan'] == 'ultimate']\n",
    "\n",
    "# Select the variable of interest ('total_income')\n",
    "variable_of_interest = 'total_income'\n",
    "\n",
    "# Perform the two-sample t-test\n",
    "results = st.ttest_ind(surf_users_df['total_income'], ultimate_users_df['total_income'], equal_var=False)\n",
    "\n",
    "# Print the p-value\n",
    "print('p-value:', results.pvalue)\n",
    "\n",
    "# Set the significance level (alpha)\n",
    "alpha = 0.05\n",
    "\n",
    "# Interpret the results\n",
    "if results.pvalue < alpha:\n",
    "    print(\"We reject the null hypothesis\")\n",
    "else:\n",
    "    print(\"We cannot reject the null hypothesis\")\n"
   ]
  },
  {
   "cell_type": "markdown",
   "metadata": {},
   "source": [
    "### Second hypothesis"
   ]
  },
  {
   "cell_type": "markdown",
   "metadata": {},
   "source": [
    "The average income of users in the New York-New Jersey state area is different from that of users in other regions."
   ]
  },
  {
   "cell_type": "code",
   "execution_count": 36,
   "metadata": {},
   "outputs": [
    {
     "name": "stdout",
     "output_type": "stream",
     "text": [
      "p-value: 0.00032874249872198627\n",
      "We reject the null hypothesis\n"
     ]
    }
   ],
   "source": [
    "# Filter users in the NY-NJ state area\n",
    "ny_nj_users_df = final_merged_data[final_merged_data['city'].str.contains('NY-NJ')]\n",
    "\n",
    "# Filter users from other regions\n",
    "other_users_df = final_merged_data[~final_merged_data['city'].str.contains('NY-NJ')]\n",
    "\n",
    "# Perform the two-sample t-test\n",
    "results = st.ttest_ind(ny_nj_users_df['total_income'], other_users_df['total_income'], equal_var=False)\n",
    "\n",
    "# Print the p-value\n",
    "print('p-value:', results.pvalue)\n",
    "\n",
    "# Set the significance level (alpha)\n",
    "alpha = 0.05\n",
    "\n",
    "# Interpret the results\n",
    "if results.pvalue < alpha:\n",
    "    print(\"We reject the null hypothesis\")\n",
    "else:\n",
    "    print(\"We cannot reject the null hypothesis\")\n"
   ]
  },
  {
   "cell_type": "markdown",
   "metadata": {},
   "source": [
    "## Conslusions\n",
    "* Income Differences: There is a significant difference in the average income generated by users on the Surf and Ultimate plans. Users on the Ultimate plan contribute more to the total income than those on the Surf plan. This disparity may be due to the higher cost per user associated with the Ultimate plan compared to the Surf plan.\n",
    "\n",
    "* Regional Income Variation: No substantial disparity is observed between the users in the New York-New Jersey area and those in other regions regarding average income. The income levels are relatively consistent across different regions.\n",
    "\n",
    "* Comprehensive Billing and User Analysis: To better understand the distribution of income and the user base composition, the total billing generated by all users of each plan has been calculated. A detailed analysis of the number of users per plan has also been conducted. This information is crucial for optimizing marketing strategies, developing more tailored service plans, and ultimately maximizing the profitability of the mobile service."
   ]
  }
 ],
 "metadata": {
  "kernelspec": {
   "display_name": "entorno",
   "language": "python",
   "name": "python3"
  },
  "language_info": {
   "codemirror_mode": {
    "name": "ipython",
    "version": 3
   },
   "file_extension": ".py",
   "mimetype": "text/x-python",
   "name": "python",
   "nbconvert_exporter": "python",
   "pygments_lexer": "ipython3",
   "version": "3.12.4"
  }
 },
 "nbformat": 4,
 "nbformat_minor": 2
}
